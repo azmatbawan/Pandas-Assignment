{
 "cells": [
  {
   "cell_type": "markdown",
   "metadata": {},
   "source": [
    "# Part-1"
   ]
  },
  {
   "cell_type": "code",
   "execution_count": 102,
   "metadata": {},
   "outputs": [],
   "source": [
    "import pandas as pd\n",
    "import numpy as np"
   ]
  },
  {
   "cell_type": "markdown",
   "metadata": {},
   "source": [
    "#### Saving data to DataFrame"
   ]
  },
  {
   "cell_type": "code",
   "execution_count": 103,
   "metadata": {},
   "outputs": [
    {
     "data": {
      "text/html": [
       "<div>\n",
       "<style scoped>\n",
       "    .dataframe tbody tr th:only-of-type {\n",
       "        vertical-align: middle;\n",
       "    }\n",
       "\n",
       "    .dataframe tbody tr th {\n",
       "        vertical-align: top;\n",
       "    }\n",
       "\n",
       "    .dataframe thead th {\n",
       "        text-align: right;\n",
       "    }\n",
       "</style>\n",
       "<table border=\"1\" class=\"dataframe\">\n",
       "  <thead>\n",
       "    <tr style=\"text-align: right;\">\n",
       "      <th></th>\n",
       "      <th>Unnamed: 0</th>\n",
       "      <th>State</th>\n",
       "      <th>TotalPop</th>\n",
       "      <th>Hispanic</th>\n",
       "      <th>White</th>\n",
       "      <th>Black</th>\n",
       "      <th>Native</th>\n",
       "      <th>Asian</th>\n",
       "      <th>Pacific</th>\n",
       "      <th>Income</th>\n",
       "      <th>GenderPop</th>\n",
       "    </tr>\n",
       "  </thead>\n",
       "  <tbody>\n",
       "    <tr>\n",
       "      <th>0</th>\n",
       "      <td>0</td>\n",
       "      <td>Alabama</td>\n",
       "      <td>4830620</td>\n",
       "      <td>3.7516156462584975%</td>\n",
       "      <td>61.878656462585%</td>\n",
       "      <td>31.25297619047618%</td>\n",
       "      <td>0.4532312925170065%</td>\n",
       "      <td>1.0502551020408146%</td>\n",
       "      <td>0.03435374149659865%</td>\n",
       "      <td>$43296.35860306644</td>\n",
       "      <td>2341093M_2489527F</td>\n",
       "    </tr>\n",
       "    <tr>\n",
       "      <th>1</th>\n",
       "      <td>1</td>\n",
       "      <td>Alaska</td>\n",
       "      <td>733375</td>\n",
       "      <td>5.909580838323351%</td>\n",
       "      <td>60.910179640718574%</td>\n",
       "      <td>2.8485029940119775%</td>\n",
       "      <td>16.39101796407186%</td>\n",
       "      <td>5.450299401197604%</td>\n",
       "      <td>1.0586826347305378%</td>\n",
       "      <td>$70354.74390243902</td>\n",
       "      <td>384160M_349215F</td>\n",
       "    </tr>\n",
       "    <tr>\n",
       "      <th>2</th>\n",
       "      <td>2</td>\n",
       "      <td>Arizona</td>\n",
       "      <td>6641928</td>\n",
       "      <td>29.565921052631502%</td>\n",
       "      <td>57.120000000000026%</td>\n",
       "      <td>3.8509868421052658%</td>\n",
       "      <td>4.35506578947368%</td>\n",
       "      <td>2.876578947368419%</td>\n",
       "      <td>0.16763157894736833%</td>\n",
       "      <td>$54207.82095490716</td>\n",
       "      <td>3299088M_3342840F</td>\n",
       "    </tr>\n",
       "    <tr>\n",
       "      <th>3</th>\n",
       "      <td>3</td>\n",
       "      <td>Arkansas</td>\n",
       "      <td>2958208</td>\n",
       "      <td>6.215474452554738%</td>\n",
       "      <td>71.13781021897813%</td>\n",
       "      <td>18.968759124087573%</td>\n",
       "      <td>0.5229197080291965%</td>\n",
       "      <td>1.1423357664233578%</td>\n",
       "      <td>0.14686131386861315%</td>\n",
       "      <td>$41935.63396778917</td>\n",
       "      <td>1451913M_1506295F</td>\n",
       "    </tr>\n",
       "    <tr>\n",
       "      <th>4</th>\n",
       "      <td>4</td>\n",
       "      <td>California</td>\n",
       "      <td>38421464</td>\n",
       "      <td>37.291874687968054%</td>\n",
       "      <td>40.21578881677474%</td>\n",
       "      <td>5.677396405391911%</td>\n",
       "      <td>0.40529206190713685%</td>\n",
       "      <td>13.052234148776776%</td>\n",
       "      <td>0.35141038442336353%</td>\n",
       "      <td>$67264.78230266465</td>\n",
       "      <td>19087135M_19334329F</td>\n",
       "    </tr>\n",
       "  </tbody>\n",
       "</table>\n",
       "</div>"
      ],
      "text/plain": [
       "   Unnamed: 0       State  TotalPop             Hispanic                White  \\\n",
       "0           0     Alabama   4830620  3.7516156462584975%     61.878656462585%   \n",
       "1           1      Alaska    733375   5.909580838323351%  60.910179640718574%   \n",
       "2           2     Arizona   6641928  29.565921052631502%  57.120000000000026%   \n",
       "3           3    Arkansas   2958208   6.215474452554738%   71.13781021897813%   \n",
       "4           4  California  38421464  37.291874687968054%   40.21578881677474%   \n",
       "\n",
       "                 Black                Native                Asian  \\\n",
       "0   31.25297619047618%   0.4532312925170065%  1.0502551020408146%   \n",
       "1  2.8485029940119775%    16.39101796407186%   5.450299401197604%   \n",
       "2  3.8509868421052658%     4.35506578947368%   2.876578947368419%   \n",
       "3  18.968759124087573%   0.5229197080291965%  1.1423357664233578%   \n",
       "4   5.677396405391911%  0.40529206190713685%  13.052234148776776%   \n",
       "\n",
       "                Pacific              Income            GenderPop  \n",
       "0  0.03435374149659865%  $43296.35860306644    2341093M_2489527F  \n",
       "1   1.0586826347305378%  $70354.74390243902      384160M_349215F  \n",
       "2  0.16763157894736833%  $54207.82095490716    3299088M_3342840F  \n",
       "3  0.14686131386861315%  $41935.63396778917    1451913M_1506295F  \n",
       "4  0.35141038442336353%  $67264.78230266465  19087135M_19334329F  "
      ]
     },
     "execution_count": 103,
     "metadata": {},
     "output_type": "execute_result"
    }
   ],
   "source": [
    "df0=pd.read_csv(\"states0.csv\")\n",
    "df1=pd.read_csv(\"states1.csv\")\n",
    "df2=pd.read_csv(\"states2.csv\")\n",
    "df3=pd.read_csv(\"states3.csv\")\n",
    "df4=pd.read_csv(\"states4.csv\")\n",
    "df5=pd.read_csv(\"states5.csv\")\n",
    "df6=pd.read_csv(\"states6.csv\")\n",
    "df7=pd.read_csv(\"states7.csv\")\n",
    "df8=pd.read_csv(\"states8.csv\")\n",
    "df9=pd.read_csv(\"states9.csv\")\n",
    "us_census=pd.concat([df0,df1,df2,df3,df4,df5,df6,df7,df8,df9])\n",
    "#display(us_census)\n",
    "us_census.head()"
   ]
  },
  {
   "cell_type": "markdown",
   "metadata": {},
   "source": [
    "#### Ispecting Data"
   ]
  },
  {
   "cell_type": "code",
   "execution_count": 104,
   "metadata": {},
   "outputs": [
    {
     "data": {
      "text/plain": [
       "Index(['Unnamed: 0', 'State', 'TotalPop', 'Hispanic', 'White', 'Black',\n",
       "       'Native', 'Asian', 'Pacific', 'Income', 'GenderPop'],\n",
       "      dtype='object')"
      ]
     },
     "metadata": {},
     "output_type": "display_data"
    },
    {
     "data": {
      "text/plain": [
       "Unnamed: 0     int64\n",
       "State         object\n",
       "TotalPop       int64\n",
       "Hispanic      object\n",
       "White         object\n",
       "Black         object\n",
       "Native        object\n",
       "Asian         object\n",
       "Pacific       object\n",
       "Income        object\n",
       "GenderPop     object\n",
       "dtype: object"
      ]
     },
     "metadata": {},
     "output_type": "display_data"
    }
   ],
   "source": [
    "display(us_census.columns)\n",
    "display(us_census.dtypes)"
   ]
  },
  {
   "cell_type": "markdown",
   "metadata": {},
   "source": [
    "#### Cleaning Data"
   ]
  },
  {
   "cell_type": "code",
   "execution_count": 105,
   "metadata": {},
   "outputs": [
    {
     "data": {
      "text/html": [
       "<div>\n",
       "<style scoped>\n",
       "    .dataframe tbody tr th:only-of-type {\n",
       "        vertical-align: middle;\n",
       "    }\n",
       "\n",
       "    .dataframe tbody tr th {\n",
       "        vertical-align: top;\n",
       "    }\n",
       "\n",
       "    .dataframe thead th {\n",
       "        text-align: right;\n",
       "    }\n",
       "</style>\n",
       "<table border=\"1\" class=\"dataframe\">\n",
       "  <thead>\n",
       "    <tr style=\"text-align: right;\">\n",
       "      <th></th>\n",
       "      <th>Unnamed: 0</th>\n",
       "      <th>State</th>\n",
       "      <th>TotalPop</th>\n",
       "      <th>Hispanic</th>\n",
       "      <th>White</th>\n",
       "      <th>Black</th>\n",
       "      <th>Native</th>\n",
       "      <th>Asian</th>\n",
       "      <th>Pacific</th>\n",
       "      <th>Income</th>\n",
       "      <th>GenderPop</th>\n",
       "    </tr>\n",
       "  </thead>\n",
       "  <tbody>\n",
       "    <tr>\n",
       "      <th>0</th>\n",
       "      <td>0</td>\n",
       "      <td>Alabama</td>\n",
       "      <td>4830620</td>\n",
       "      <td>3.7516156462584975%</td>\n",
       "      <td>61.878656462585%</td>\n",
       "      <td>31.25297619047618%</td>\n",
       "      <td>0.4532312925170065%</td>\n",
       "      <td>1.0502551020408146%</td>\n",
       "      <td>0.03435374149659865%</td>\n",
       "      <td>43296.358603</td>\n",
       "      <td>2341093M_2489527F</td>\n",
       "    </tr>\n",
       "    <tr>\n",
       "      <th>1</th>\n",
       "      <td>1</td>\n",
       "      <td>Alaska</td>\n",
       "      <td>733375</td>\n",
       "      <td>5.909580838323351%</td>\n",
       "      <td>60.910179640718574%</td>\n",
       "      <td>2.8485029940119775%</td>\n",
       "      <td>16.39101796407186%</td>\n",
       "      <td>5.450299401197604%</td>\n",
       "      <td>1.0586826347305378%</td>\n",
       "      <td>70354.743902</td>\n",
       "      <td>384160M_349215F</td>\n",
       "    </tr>\n",
       "    <tr>\n",
       "      <th>2</th>\n",
       "      <td>2</td>\n",
       "      <td>Arizona</td>\n",
       "      <td>6641928</td>\n",
       "      <td>29.565921052631502%</td>\n",
       "      <td>57.120000000000026%</td>\n",
       "      <td>3.8509868421052658%</td>\n",
       "      <td>4.35506578947368%</td>\n",
       "      <td>2.876578947368419%</td>\n",
       "      <td>0.16763157894736833%</td>\n",
       "      <td>54207.820955</td>\n",
       "      <td>3299088M_3342840F</td>\n",
       "    </tr>\n",
       "    <tr>\n",
       "      <th>3</th>\n",
       "      <td>3</td>\n",
       "      <td>Arkansas</td>\n",
       "      <td>2958208</td>\n",
       "      <td>6.215474452554738%</td>\n",
       "      <td>71.13781021897813%</td>\n",
       "      <td>18.968759124087573%</td>\n",
       "      <td>0.5229197080291965%</td>\n",
       "      <td>1.1423357664233578%</td>\n",
       "      <td>0.14686131386861315%</td>\n",
       "      <td>41935.633968</td>\n",
       "      <td>1451913M_1506295F</td>\n",
       "    </tr>\n",
       "    <tr>\n",
       "      <th>4</th>\n",
       "      <td>4</td>\n",
       "      <td>California</td>\n",
       "      <td>38421464</td>\n",
       "      <td>37.291874687968054%</td>\n",
       "      <td>40.21578881677474%</td>\n",
       "      <td>5.677396405391911%</td>\n",
       "      <td>0.40529206190713685%</td>\n",
       "      <td>13.052234148776776%</td>\n",
       "      <td>0.35141038442336353%</td>\n",
       "      <td>67264.782303</td>\n",
       "      <td>19087135M_19334329F</td>\n",
       "    </tr>\n",
       "  </tbody>\n",
       "</table>\n",
       "</div>"
      ],
      "text/plain": [
       "   Unnamed: 0       State  TotalPop             Hispanic                White  \\\n",
       "0           0     Alabama   4830620  3.7516156462584975%     61.878656462585%   \n",
       "1           1      Alaska    733375   5.909580838323351%  60.910179640718574%   \n",
       "2           2     Arizona   6641928  29.565921052631502%  57.120000000000026%   \n",
       "3           3    Arkansas   2958208   6.215474452554738%   71.13781021897813%   \n",
       "4           4  California  38421464  37.291874687968054%   40.21578881677474%   \n",
       "\n",
       "                 Black                Native                Asian  \\\n",
       "0   31.25297619047618%   0.4532312925170065%  1.0502551020408146%   \n",
       "1  2.8485029940119775%    16.39101796407186%   5.450299401197604%   \n",
       "2  3.8509868421052658%     4.35506578947368%   2.876578947368419%   \n",
       "3  18.968759124087573%   0.5229197080291965%  1.1423357664233578%   \n",
       "4   5.677396405391911%  0.40529206190713685%  13.052234148776776%   \n",
       "\n",
       "                Pacific        Income            GenderPop  \n",
       "0  0.03435374149659865%  43296.358603    2341093M_2489527F  \n",
       "1   1.0586826347305378%  70354.743902      384160M_349215F  \n",
       "2  0.16763157894736833%  54207.820955    3299088M_3342840F  \n",
       "3  0.14686131386861315%  41935.633968    1451913M_1506295F  \n",
       "4  0.35141038442336353%  67264.782303  19087135M_19334329F  "
      ]
     },
     "execution_count": 105,
     "metadata": {},
     "output_type": "execute_result"
    }
   ],
   "source": [
    "us_census[\"Income\"] = us_census['Income'].replace({'\\$': ''}, regex=True).astype(float)\n",
    "us_census.head()"
   ]
  },
  {
   "cell_type": "code",
   "execution_count": 106,
   "metadata": {},
   "outputs": [],
   "source": [
    "us_census[\"Men\"]=(us_census[\"GenderPop\"].str.split(pat='_',expand=True))[0]\n",
    "us_census[\"Women\"]=(us_census[\"GenderPop\"].str.split(pat='_',expand=True))[1]\n",
    "us_census[\"Men\"]=us_census[\"Men\"].replace({\"M\":\"\"},regex=True).astype(int)\n",
    "us_census[\"Women\"]=us_census[\"Women\"].replace({\"F\":\"\"},regex=True)\n",
    "us_census[\"Women\"]=us_census[\"Women\"].replace(r'^\\s*$', np.nan, regex=True)\n",
    "us_census[\"Women\"]=us_census[\"Women\"].fillna((us_census[\"TotalPop\"].astype(int))-(us_census[\"Men\"]))\n",
    "us_census[\"Women\"]=us_census[\"Women\"].astype(int)\n",
    "us_census=us_census.drop_duplicates()"
   ]
  },
  {
   "cell_type": "markdown",
   "metadata": {},
   "source": [
    "#### Scatter Plot"
   ]
  },
  {
   "cell_type": "code",
   "execution_count": 107,
   "metadata": {
    "scrolled": true
   },
   "outputs": [
    {
     "data": {
      "image/png": "[encoded data removed]",
      "text/plain": [
       "<Figure size 432x288 with 1 Axes>"
      ]
     },
     "metadata": {
      "needs_background": "light"
     },
     "output_type": "display_data"
    }
   ],
   "source": [
    "import matplotlib.pyplot as plt\n",
    "plt.scatter(us_census[\"Women\"],us_census[\"Income\"])\n",
    "plt.show()"
   ]
  },
  {
   "cell_type": "code",
   "execution_count": 108,
   "metadata": {},
   "outputs": [
    {
     "data": {
      "text/html": [
       "<div>\n",
       "<style scoped>\n",
       "    .dataframe tbody tr th:only-of-type {\n",
       "        vertical-align: middle;\n",
       "    }\n",
       "\n",
       "    .dataframe tbody tr th {\n",
       "        vertical-align: top;\n",
       "    }\n",
       "\n",
       "    .dataframe thead th {\n",
       "        text-align: right;\n",
       "    }\n",
       "</style>\n",
       "<table border=\"1\" class=\"dataframe\">\n",
       "  <thead>\n",
       "    <tr style=\"text-align: right;\">\n",
       "      <th></th>\n",
       "      <th>Unnamed: 0</th>\n",
       "      <th>State</th>\n",
       "      <th>TotalPop</th>\n",
       "      <th>Hispanic</th>\n",
       "      <th>White</th>\n",
       "      <th>Black</th>\n",
       "      <th>Native</th>\n",
       "      <th>Asian</th>\n",
       "      <th>Pacific</th>\n",
       "      <th>Income</th>\n",
       "      <th>GenderPop</th>\n",
       "      <th>Men</th>\n",
       "      <th>Women</th>\n",
       "    </tr>\n",
       "  </thead>\n",
       "  <tbody>\n",
       "    <tr>\n",
       "      <th>0</th>\n",
       "      <td>0</td>\n",
       "      <td>Alabama</td>\n",
       "      <td>4830620</td>\n",
       "      <td>3.7516156462584975%</td>\n",
       "      <td>61.878656462585%</td>\n",
       "      <td>31.25297619047618%</td>\n",
       "      <td>0.4532312925170065%</td>\n",
       "      <td>1.0502551020408146%</td>\n",
       "      <td>0.03435374149659865%</td>\n",
       "      <td>43296.358603</td>\n",
       "      <td>2341093M_2489527F</td>\n",
       "      <td>2341093</td>\n",
       "      <td>2489527</td>\n",
       "    </tr>\n",
       "    <tr>\n",
       "      <th>1</th>\n",
       "      <td>1</td>\n",
       "      <td>Alaska</td>\n",
       "      <td>733375</td>\n",
       "      <td>5.909580838323351%</td>\n",
       "      <td>60.910179640718574%</td>\n",
       "      <td>2.8485029940119775%</td>\n",
       "      <td>16.39101796407186%</td>\n",
       "      <td>5.450299401197604%</td>\n",
       "      <td>1.0586826347305378%</td>\n",
       "      <td>70354.743902</td>\n",
       "      <td>384160M_349215F</td>\n",
       "      <td>384160</td>\n",
       "      <td>349215</td>\n",
       "    </tr>\n",
       "    <tr>\n",
       "      <th>2</th>\n",
       "      <td>2</td>\n",
       "      <td>Arizona</td>\n",
       "      <td>6641928</td>\n",
       "      <td>29.565921052631502%</td>\n",
       "      <td>57.120000000000026%</td>\n",
       "      <td>3.8509868421052658%</td>\n",
       "      <td>4.35506578947368%</td>\n",
       "      <td>2.876578947368419%</td>\n",
       "      <td>0.16763157894736833%</td>\n",
       "      <td>54207.820955</td>\n",
       "      <td>3299088M_3342840F</td>\n",
       "      <td>3299088</td>\n",
       "      <td>3342840</td>\n",
       "    </tr>\n",
       "    <tr>\n",
       "      <th>3</th>\n",
       "      <td>3</td>\n",
       "      <td>Arkansas</td>\n",
       "      <td>2958208</td>\n",
       "      <td>6.215474452554738%</td>\n",
       "      <td>71.13781021897813%</td>\n",
       "      <td>18.968759124087573%</td>\n",
       "      <td>0.5229197080291965%</td>\n",
       "      <td>1.1423357664233578%</td>\n",
       "      <td>0.14686131386861315%</td>\n",
       "      <td>41935.633968</td>\n",
       "      <td>1451913M_1506295F</td>\n",
       "      <td>1451913</td>\n",
       "      <td>1506295</td>\n",
       "    </tr>\n",
       "    <tr>\n",
       "      <th>4</th>\n",
       "      <td>4</td>\n",
       "      <td>California</td>\n",
       "      <td>38421464</td>\n",
       "      <td>37.291874687968054%</td>\n",
       "      <td>40.21578881677474%</td>\n",
       "      <td>5.677396405391911%</td>\n",
       "      <td>0.40529206190713685%</td>\n",
       "      <td>13.052234148776776%</td>\n",
       "      <td>0.35141038442336353%</td>\n",
       "      <td>67264.782303</td>\n",
       "      <td>19087135M_19334329F</td>\n",
       "      <td>19087135</td>\n",
       "      <td>19334329</td>\n",
       "    </tr>\n",
       "  </tbody>\n",
       "</table>\n",
       "</div>"
      ],
      "text/plain": [
       "   Unnamed: 0       State  TotalPop             Hispanic                White  \\\n",
       "0           0     Alabama   4830620  3.7516156462584975%     61.878656462585%   \n",
       "1           1      Alaska    733375   5.909580838323351%  60.910179640718574%   \n",
       "2           2     Arizona   6641928  29.565921052631502%  57.120000000000026%   \n",
       "3           3    Arkansas   2958208   6.215474452554738%   71.13781021897813%   \n",
       "4           4  California  38421464  37.291874687968054%   40.21578881677474%   \n",
       "\n",
       "                 Black                Native                Asian  \\\n",
       "0   31.25297619047618%   0.4532312925170065%  1.0502551020408146%   \n",
       "1  2.8485029940119775%    16.39101796407186%   5.450299401197604%   \n",
       "2  3.8509868421052658%     4.35506578947368%   2.876578947368419%   \n",
       "3  18.968759124087573%   0.5229197080291965%  1.1423357664233578%   \n",
       "4   5.677396405391911%  0.40529206190713685%  13.052234148776776%   \n",
       "\n",
       "                Pacific        Income            GenderPop       Men     Women  \n",
       "0  0.03435374149659865%  43296.358603    2341093M_2489527F   2341093   2489527  \n",
       "1   1.0586826347305378%  70354.743902      384160M_349215F    384160    349215  \n",
       "2  0.16763157894736833%  54207.820955    3299088M_3342840F   3299088   3342840  \n",
       "3  0.14686131386861315%  41935.633968    1451913M_1506295F   1451913   1506295  \n",
       "4  0.35141038442336353%  67264.782303  19087135M_19334329F  19087135  19334329  "
      ]
     },
     "execution_count": 108,
     "metadata": {},
     "output_type": "execute_result"
    }
   ],
   "source": [
    "us_census.head()"
   ]
  },
  {
   "cell_type": "markdown",
   "metadata": {},
   "source": [
    "#### cleaning data for Histogram"
   ]
  },
  {
   "cell_type": "code",
   "execution_count": 109,
   "metadata": {},
   "outputs": [],
   "source": [
    "us_census[\"White\"]=us_census[\"White\"].replace({\"%\":\"\"},regex=True).astype(float)"
   ]
  },
  {
   "cell_type": "code",
   "execution_count": 110,
   "metadata": {},
   "outputs": [],
   "source": [
    "us_census[\"Hispanic\"]=us_census[\"Hispanic\"].replace({\"%\":\"\"},regex=True).astype(float)"
   ]
  },
  {
   "cell_type": "code",
   "execution_count": 111,
   "metadata": {},
   "outputs": [],
   "source": [
    "us_census[\"Black\"]=us_census[\"Black\"].replace({\"%\":\"\"},regex=True).astype(float)"
   ]
  },
  {
   "cell_type": "code",
   "execution_count": 112,
   "metadata": {},
   "outputs": [],
   "source": [
    "us_census[\"Native\"]=us_census[\"Native\"].replace({\"%\":\"\"},regex=True).astype(float)"
   ]
  },
  {
   "cell_type": "code",
   "execution_count": 113,
   "metadata": {},
   "outputs": [],
   "source": [
    "us_census[\"Asian\"]=us_census[\"Asian\"].replace({\"%\":\"\"},regex=True).astype(float)"
   ]
  },
  {
   "cell_type": "code",
   "execution_count": 114,
   "metadata": {},
   "outputs": [],
   "source": [
    "us_census[\"Pacific\"]=us_census[\"Pacific\"].replace({\"%\":\"\"},regex=True).astype(float)\n"
   ]
  },
  {
   "cell_type": "code",
   "execution_count": 115,
   "metadata": {},
   "outputs": [],
   "source": [
    "us_census=us_census.drop_duplicates()"
   ]
  },
  {
   "cell_type": "code",
   "execution_count": 116,
   "metadata": {},
   "outputs": [
    {
     "data": {
      "text/plain": [
       "(array([ 1.,  0.,  1.,  1.,  3., 10.,  9., 11., 15.,  9.]),\n",
       " array([ 0.77361894, 10.09456306, 19.41550717, 28.73645129, 38.05739541,\n",
       "        47.37833952, 56.69928364, 66.02022776, 75.34117188, 84.66211599,\n",
       "        93.98306011]),\n",
       " <a list of 10 Patch objects>)"
      ]
     },
     "execution_count": 116,
     "metadata": {},
     "output_type": "execute_result"
    },
    {
     "data": {
      "image/png": "[encoded data removed]",
      "text/plain": [
       "<Figure size 432x288 with 1 Axes>"
      ]
     },
     "metadata": {
      "needs_background": "light"
     },
     "output_type": "display_data"
    }
   ],
   "source": [
    "plt.hist(us_census[\"White\"])"
   ]
  },
  {
   "cell_type": "code",
   "execution_count": 117,
   "metadata": {},
   "outputs": [
    {
     "data": {
      "text/plain": [
       "(array([22., 11.,  8.,  9.,  1.,  3.,  3.,  1.,  1.,  1.]),\n",
       " array([ 0.09255919,  5.2609569 , 10.42935461, 15.59775233, 20.76615004,\n",
       "        25.93454775, 31.10294546, 36.27134318, 41.43974089, 46.6081386 ,\n",
       "        51.77653631]),\n",
       " <a list of 10 Patch objects>)"
      ]
     },
     "execution_count": 117,
     "metadata": {},
     "output_type": "execute_result"
    },
    {
     "data": {
      "image/png": "[encoded data removed]",
      "text/plain": [
       "<Figure size 432x288 with 1 Axes>"
      ]
     },
     "metadata": {
      "needs_background": "light"
     },
     "output_type": "display_data"
    }
   ],
   "source": [
    "plt.hist(us_census[\"Black\"])"
   ]
  },
  {
   "cell_type": "code",
   "execution_count": 118,
   "metadata": {},
   "outputs": [
    {
     "data": {
      "text/plain": [
       "(array([37., 16.,  3.,  2.,  1.,  0.,  0.,  0.,  0.,  1.]),\n",
       " array([ 1.29090909, 11.05117557, 20.81144204, 30.57170852, 40.33197499,\n",
       "        50.09224147, 59.85250794, 69.61277442, 79.37304089, 89.13330737,\n",
       "        98.89357384]),\n",
       " <a list of 10 Patch objects>)"
      ]
     },
     "execution_count": 118,
     "metadata": {},
     "output_type": "execute_result"
    },
    {
     "data": {
      "image/png": "[encoded data removed]",
      "text/plain": [
       "<Figure size 432x288 with 1 Axes>"
      ]
     },
     "metadata": {
      "needs_background": "light"
     },
     "output_type": "display_data"
    }
   ],
   "source": [
    "plt.hist(us_census[\"Hispanic\"])"
   ]
  },
  {
   "cell_type": "code",
   "execution_count": 119,
   "metadata": {},
   "outputs": [
    {
     "data": {
      "text/plain": [
       "(array([53.,  0.,  1.,  1.,  2.,  2.,  0.,  0.,  0.,  1.]),\n",
       " array([2.81848929e-03, 1.64163844e+00, 3.28045838e+00, 4.91927833e+00,\n",
       "        6.55809828e+00, 8.19691823e+00, 9.83573817e+00, 1.14745581e+01,\n",
       "        1.31133781e+01, 1.47521980e+01, 1.63910180e+01]),\n",
       " <a list of 10 Patch objects>)"
      ]
     },
     "execution_count": 119,
     "metadata": {},
     "output_type": "execute_result"
    },
    {
     "data": {
      "image/png": "[encoded data removed]",
      "text/plain": [
       "<Figure size 432x288 with 1 Axes>"
      ]
     },
     "metadata": {
      "needs_background": "light"
     },
     "output_type": "display_data"
    }
   ],
   "source": [
    "plt.hist(us_census[\"Native\"])"
   ]
  },
  {
   "cell_type": "code",
   "execution_count": 120,
   "metadata": {},
   "outputs": [
    {
     "data": {
      "text/plain": [
       "(array([45., 10.,  3.,  1.,  0.,  0.,  0.,  0.,  0.,  1.]),\n",
       " array([ 0.07519729,  3.72688643,  7.37857556, 11.03026469, 14.68195382,\n",
       "        18.33364295, 21.98533208, 25.63702121, 29.28871034, 32.94039948,\n",
       "        36.59208861]),\n",
       " <a list of 10 Patch objects>)"
      ]
     },
     "execution_count": 120,
     "metadata": {},
     "output_type": "execute_result"
    },
    {
     "data": {
      "image/png": "[encoded data removed]",
      "text/plain": [
       "<Figure size 432x288 with 1 Axes>"
      ]
     },
     "metadata": {
      "needs_background": "light"
     },
     "output_type": "display_data"
    }
   ],
   "source": [
    "plt.hist(us_census[\"Asian\"])"
   ]
  },
  {
   "cell_type": "code",
   "execution_count": 121,
   "metadata": {},
   "outputs": [
    {
     "name": "stderr",
     "output_type": "stream",
     "text": [
      "C:\\Users\\Syed\\anaconda3\\lib\\site-packages\\numpy\\lib\\histograms.py:839: RuntimeWarning: invalid value encountered in greater_equal\n",
      "  keep = (tmp_a >= first_edge)\n",
      "C:\\Users\\Syed\\anaconda3\\lib\\site-packages\\numpy\\lib\\histograms.py:840: RuntimeWarning: invalid value encountered in less_equal\n",
      "  keep &= (tmp_a <= last_edge)\n"
     ]
    },
    {
     "data": {
      "text/plain": [
       "(array([53.,  1.,  0.,  0.,  0.,  0.,  0.,  0.,  0.,  1.]),\n",
       " array([1.24013529e-03, 8.77002198e-01, 1.75276426e+00, 2.62852632e+00,\n",
       "        3.50428838e+00, 4.38005045e+00, 5.25581251e+00, 6.13157457e+00,\n",
       "        7.00733663e+00, 7.88309870e+00, 8.75886076e+00]),\n",
       " <a list of 10 Patch objects>)"
      ]
     },
     "execution_count": 121,
     "metadata": {},
     "output_type": "execute_result"
    },
    {
     "data": {
      "image/png": "[encoded data removed]",
      "text/plain": [
       "<Figure size 432x288 with 1 Axes>"
      ]
     },
     "metadata": {
      "needs_background": "light"
     },
     "output_type": "display_data"
    }
   ],
   "source": [
    "plt.hist(us_census[\"Pacific\"])"
   ]
  },
  {
   "cell_type": "markdown",
   "metadata": {},
   "source": [
    "# Part-2"
   ]
  },
  {
   "cell_type": "code",
   "execution_count": 130,
   "metadata": {},
   "outputs": [
    {
     "data": {
      "text/html": [
       "<div>\n",
       "<style scoped>\n",
       "    .dataframe tbody tr th:only-of-type {\n",
       "        vertical-align: middle;\n",
       "    }\n",
       "\n",
       "    .dataframe tbody tr th {\n",
       "        vertical-align: top;\n",
       "    }\n",
       "\n",
       "    .dataframe thead th {\n",
       "        text-align: right;\n",
       "    }\n",
       "</style>\n",
       "<table border=\"1\" class=\"dataframe\">\n",
       "  <thead>\n",
       "    <tr style=\"text-align: right;\">\n",
       "      <th></th>\n",
       "      <th>location</th>\n",
       "      <th>product_type</th>\n",
       "      <th>product_description</th>\n",
       "      <th>quantity</th>\n",
       "      <th>price</th>\n",
       "    </tr>\n",
       "  </thead>\n",
       "  <tbody>\n",
       "    <tr>\n",
       "      <th>0</th>\n",
       "      <td>Staten Island</td>\n",
       "      <td>seeds</td>\n",
       "      <td>daisy</td>\n",
       "      <td>4</td>\n",
       "      <td>6.99</td>\n",
       "    </tr>\n",
       "    <tr>\n",
       "      <th>1</th>\n",
       "      <td>Staten Island</td>\n",
       "      <td>seeds</td>\n",
       "      <td>calla lily</td>\n",
       "      <td>46</td>\n",
       "      <td>19.99</td>\n",
       "    </tr>\n",
       "    <tr>\n",
       "      <th>2</th>\n",
       "      <td>Staten Island</td>\n",
       "      <td>seeds</td>\n",
       "      <td>tomato</td>\n",
       "      <td>85</td>\n",
       "      <td>13.99</td>\n",
       "    </tr>\n",
       "    <tr>\n",
       "      <th>3</th>\n",
       "      <td>Staten Island</td>\n",
       "      <td>garden tools</td>\n",
       "      <td>rake</td>\n",
       "      <td>4</td>\n",
       "      <td>13.99</td>\n",
       "    </tr>\n",
       "    <tr>\n",
       "      <th>4</th>\n",
       "      <td>Staten Island</td>\n",
       "      <td>garden tools</td>\n",
       "      <td>wheelbarrow</td>\n",
       "      <td>0</td>\n",
       "      <td>89.99</td>\n",
       "    </tr>\n",
       "    <tr>\n",
       "      <th>5</th>\n",
       "      <td>Staten Island</td>\n",
       "      <td>garden tools</td>\n",
       "      <td>spade</td>\n",
       "      <td>93</td>\n",
       "      <td>19.99</td>\n",
       "    </tr>\n",
       "    <tr>\n",
       "      <th>6</th>\n",
       "      <td>Staten Island</td>\n",
       "      <td>pest_control</td>\n",
       "      <td>insect killer</td>\n",
       "      <td>74</td>\n",
       "      <td>12.99</td>\n",
       "    </tr>\n",
       "    <tr>\n",
       "      <th>7</th>\n",
       "      <td>Staten Island</td>\n",
       "      <td>pest_control</td>\n",
       "      <td>weed killer</td>\n",
       "      <td>8</td>\n",
       "      <td>23.99</td>\n",
       "    </tr>\n",
       "    <tr>\n",
       "      <th>8</th>\n",
       "      <td>Staten Island</td>\n",
       "      <td>planter</td>\n",
       "      <td>20 inch terracotta planter</td>\n",
       "      <td>0</td>\n",
       "      <td>17.99</td>\n",
       "    </tr>\n",
       "    <tr>\n",
       "      <th>9</th>\n",
       "      <td>Staten Island</td>\n",
       "      <td>planter</td>\n",
       "      <td>8 inch plastic planter</td>\n",
       "      <td>53</td>\n",
       "      <td>3.99</td>\n",
       "    </tr>\n",
       "  </tbody>\n",
       "</table>\n",
       "</div>"
      ],
      "text/plain": [
       "        location  product_type         product_description  quantity  price\n",
       "0  Staten Island         seeds                       daisy         4   6.99\n",
       "1  Staten Island         seeds                  calla lily        46  19.99\n",
       "2  Staten Island         seeds                      tomato        85  13.99\n",
       "3  Staten Island  garden tools                        rake         4  13.99\n",
       "4  Staten Island  garden tools                 wheelbarrow         0  89.99\n",
       "5  Staten Island  garden tools                       spade        93  19.99\n",
       "6  Staten Island  pest_control               insect killer        74  12.99\n",
       "7  Staten Island  pest_control                 weed killer         8  23.99\n",
       "8  Staten Island       planter  20 inch terracotta planter         0  17.99\n",
       "9  Staten Island       planter      8 inch plastic planter        53   3.99"
      ]
     },
     "execution_count": 130,
     "metadata": {},
     "output_type": "execute_result"
    }
   ],
   "source": [
    "inventory=pd.read_csv(\"inventory.csv\")\n",
    "staten_island=inventory[0:10]\n",
    "staten_island"
   ]
  },
  {
   "cell_type": "code",
   "execution_count": 131,
   "metadata": {},
   "outputs": [
    {
     "data": {
      "text/plain": [
       "0                         daisy\n",
       "1                    calla lily\n",
       "2                        tomato\n",
       "3                          rake\n",
       "4                   wheelbarrow\n",
       "5                         spade\n",
       "6                 insect killer\n",
       "7                   weed killer\n",
       "8    20 inch terracotta planter\n",
       "9        8 inch plastic planter\n",
       "Name: product_description, dtype: object"
      ]
     },
     "execution_count": 131,
     "metadata": {},
     "output_type": "execute_result"
    }
   ],
   "source": [
    "product_request=staten_island[\"product_description\"]\n",
    "product_request"
   ]
  },
  {
   "cell_type": "code",
   "execution_count": 132,
   "metadata": {},
   "outputs": [
    {
     "data": {
      "text/html": [
       "<div>\n",
       "<style scoped>\n",
       "    .dataframe tbody tr th:only-of-type {\n",
       "        vertical-align: middle;\n",
       "    }\n",
       "\n",
       "    .dataframe tbody tr th {\n",
       "        vertical-align: top;\n",
       "    }\n",
       "\n",
       "    .dataframe thead th {\n",
       "        text-align: right;\n",
       "    }\n",
       "</style>\n",
       "<table border=\"1\" class=\"dataframe\">\n",
       "  <thead>\n",
       "    <tr style=\"text-align: right;\">\n",
       "      <th></th>\n",
       "      <th>location</th>\n",
       "      <th>product_type</th>\n",
       "      <th>product_description</th>\n",
       "      <th>quantity</th>\n",
       "      <th>price</th>\n",
       "    </tr>\n",
       "  </thead>\n",
       "  <tbody>\n",
       "    <tr>\n",
       "      <th>10</th>\n",
       "      <td>Brooklyn</td>\n",
       "      <td>seeds</td>\n",
       "      <td>daisy</td>\n",
       "      <td>50</td>\n",
       "      <td>6.99</td>\n",
       "    </tr>\n",
       "    <tr>\n",
       "      <th>11</th>\n",
       "      <td>Brooklyn</td>\n",
       "      <td>seeds</td>\n",
       "      <td>calla lily</td>\n",
       "      <td>0</td>\n",
       "      <td>19.99</td>\n",
       "    </tr>\n",
       "    <tr>\n",
       "      <th>12</th>\n",
       "      <td>Brooklyn</td>\n",
       "      <td>seeds</td>\n",
       "      <td>tomato</td>\n",
       "      <td>0</td>\n",
       "      <td>13.99</td>\n",
       "    </tr>\n",
       "  </tbody>\n",
       "</table>\n",
       "</div>"
      ],
      "text/plain": [
       "    location product_type product_description  quantity  price\n",
       "10  Brooklyn        seeds               daisy        50   6.99\n",
       "11  Brooklyn        seeds          calla lily         0  19.99\n",
       "12  Brooklyn        seeds              tomato         0  13.99"
      ]
     },
     "execution_count": 132,
     "metadata": {},
     "output_type": "execute_result"
    }
   ],
   "source": [
    "seed_request=inventory[(inventory[\"location\"]==\"Brooklyn\") & (inventory[\"product_type\"]==\"seeds\")]\n",
    "seed_request"
   ]
  },
  {
   "cell_type": "code",
   "execution_count": 136,
   "metadata": {},
   "outputs": [
    {
     "name": "stderr",
     "output_type": "stream",
     "text": [
      "C:\\Users\\Syed\\anaconda3\\lib\\site-packages\\pandas\\core\\indexing.py:670: SettingWithCopyWarning: \n",
      "A value is trying to be set on a copy of a slice from a DataFrame\n",
      "\n",
      "See the caveats in the documentation: https://pandas.pydata.org/pandas-docs/stable/user_guide/indexing.html#returning-a-view-versus-a-copy\n",
      "  self._setitem_with_indexer(indexer, value)\n"
     ]
    },
    {
     "data": {
      "text/html": [
       "<div>\n",
       "<style scoped>\n",
       "    .dataframe tbody tr th:only-of-type {\n",
       "        vertical-align: middle;\n",
       "    }\n",
       "\n",
       "    .dataframe tbody tr th {\n",
       "        vertical-align: top;\n",
       "    }\n",
       "\n",
       "    .dataframe thead th {\n",
       "        text-align: right;\n",
       "    }\n",
       "</style>\n",
       "<table border=\"1\" class=\"dataframe\">\n",
       "  <thead>\n",
       "    <tr style=\"text-align: right;\">\n",
       "      <th></th>\n",
       "      <th>location</th>\n",
       "      <th>product_type</th>\n",
       "      <th>product_description</th>\n",
       "      <th>quantity</th>\n",
       "      <th>price</th>\n",
       "      <th>in_stock</th>\n",
       "    </tr>\n",
       "  </thead>\n",
       "  <tbody>\n",
       "    <tr>\n",
       "      <th>0</th>\n",
       "      <td>Staten Island</td>\n",
       "      <td>seeds</td>\n",
       "      <td>daisy</td>\n",
       "      <td>4</td>\n",
       "      <td>6.99</td>\n",
       "      <td>True</td>\n",
       "    </tr>\n",
       "    <tr>\n",
       "      <th>1</th>\n",
       "      <td>Staten Island</td>\n",
       "      <td>seeds</td>\n",
       "      <td>calla lily</td>\n",
       "      <td>46</td>\n",
       "      <td>19.99</td>\n",
       "      <td>True</td>\n",
       "    </tr>\n",
       "    <tr>\n",
       "      <th>2</th>\n",
       "      <td>Staten Island</td>\n",
       "      <td>seeds</td>\n",
       "      <td>tomato</td>\n",
       "      <td>85</td>\n",
       "      <td>13.99</td>\n",
       "      <td>True</td>\n",
       "    </tr>\n",
       "    <tr>\n",
       "      <th>3</th>\n",
       "      <td>Staten Island</td>\n",
       "      <td>garden tools</td>\n",
       "      <td>rake</td>\n",
       "      <td>4</td>\n",
       "      <td>13.99</td>\n",
       "      <td>True</td>\n",
       "    </tr>\n",
       "    <tr>\n",
       "      <th>4</th>\n",
       "      <td>Staten Island</td>\n",
       "      <td>garden tools</td>\n",
       "      <td>wheelbarrow</td>\n",
       "      <td>0</td>\n",
       "      <td>89.99</td>\n",
       "      <td>False</td>\n",
       "    </tr>\n",
       "    <tr>\n",
       "      <th>5</th>\n",
       "      <td>Staten Island</td>\n",
       "      <td>garden tools</td>\n",
       "      <td>spade</td>\n",
       "      <td>93</td>\n",
       "      <td>19.99</td>\n",
       "      <td>True</td>\n",
       "    </tr>\n",
       "    <tr>\n",
       "      <th>6</th>\n",
       "      <td>Staten Island</td>\n",
       "      <td>pest_control</td>\n",
       "      <td>insect killer</td>\n",
       "      <td>74</td>\n",
       "      <td>12.99</td>\n",
       "      <td>True</td>\n",
       "    </tr>\n",
       "    <tr>\n",
       "      <th>7</th>\n",
       "      <td>Staten Island</td>\n",
       "      <td>pest_control</td>\n",
       "      <td>weed killer</td>\n",
       "      <td>8</td>\n",
       "      <td>23.99</td>\n",
       "      <td>True</td>\n",
       "    </tr>\n",
       "    <tr>\n",
       "      <th>8</th>\n",
       "      <td>Staten Island</td>\n",
       "      <td>planter</td>\n",
       "      <td>20 inch terracotta planter</td>\n",
       "      <td>0</td>\n",
       "      <td>17.99</td>\n",
       "      <td>False</td>\n",
       "    </tr>\n",
       "    <tr>\n",
       "      <th>9</th>\n",
       "      <td>Staten Island</td>\n",
       "      <td>planter</td>\n",
       "      <td>8 inch plastic planter</td>\n",
       "      <td>53</td>\n",
       "      <td>3.99</td>\n",
       "      <td>True</td>\n",
       "    </tr>\n",
       "    <tr>\n",
       "      <th>10</th>\n",
       "      <td>Brooklyn</td>\n",
       "      <td>seeds</td>\n",
       "      <td>daisy</td>\n",
       "      <td>50</td>\n",
       "      <td>6.99</td>\n",
       "      <td>True</td>\n",
       "    </tr>\n",
       "    <tr>\n",
       "      <th>11</th>\n",
       "      <td>Brooklyn</td>\n",
       "      <td>seeds</td>\n",
       "      <td>calla lily</td>\n",
       "      <td>0</td>\n",
       "      <td>19.99</td>\n",
       "      <td>False</td>\n",
       "    </tr>\n",
       "    <tr>\n",
       "      <th>12</th>\n",
       "      <td>Brooklyn</td>\n",
       "      <td>seeds</td>\n",
       "      <td>tomato</td>\n",
       "      <td>0</td>\n",
       "      <td>13.99</td>\n",
       "      <td>False</td>\n",
       "    </tr>\n",
       "    <tr>\n",
       "      <th>13</th>\n",
       "      <td>Brooklyn</td>\n",
       "      <td>garden tools</td>\n",
       "      <td>rake</td>\n",
       "      <td>15</td>\n",
       "      <td>13.99</td>\n",
       "      <td>True</td>\n",
       "    </tr>\n",
       "    <tr>\n",
       "      <th>14</th>\n",
       "      <td>Brooklyn</td>\n",
       "      <td>garden tools</td>\n",
       "      <td>wheelbarrow</td>\n",
       "      <td>82</td>\n",
       "      <td>89.99</td>\n",
       "      <td>True</td>\n",
       "    </tr>\n",
       "    <tr>\n",
       "      <th>15</th>\n",
       "      <td>Brooklyn</td>\n",
       "      <td>garden tools</td>\n",
       "      <td>spade</td>\n",
       "      <td>36</td>\n",
       "      <td>19.99</td>\n",
       "      <td>True</td>\n",
       "    </tr>\n",
       "    <tr>\n",
       "      <th>16</th>\n",
       "      <td>Brooklyn</td>\n",
       "      <td>pest_control</td>\n",
       "      <td>insect killer</td>\n",
       "      <td>80</td>\n",
       "      <td>12.99</td>\n",
       "      <td>True</td>\n",
       "    </tr>\n",
       "    <tr>\n",
       "      <th>17</th>\n",
       "      <td>Brooklyn</td>\n",
       "      <td>pest_control</td>\n",
       "      <td>weed killer</td>\n",
       "      <td>76</td>\n",
       "      <td>23.99</td>\n",
       "      <td>True</td>\n",
       "    </tr>\n",
       "    <tr>\n",
       "      <th>18</th>\n",
       "      <td>Brooklyn</td>\n",
       "      <td>planter</td>\n",
       "      <td>20 inch terracotta planter</td>\n",
       "      <td>5</td>\n",
       "      <td>17.99</td>\n",
       "      <td>True</td>\n",
       "    </tr>\n",
       "    <tr>\n",
       "      <th>19</th>\n",
       "      <td>Brooklyn</td>\n",
       "      <td>planter</td>\n",
       "      <td>8 inch plastic planter</td>\n",
       "      <td>26</td>\n",
       "      <td>3.99</td>\n",
       "      <td>True</td>\n",
       "    </tr>\n",
       "    <tr>\n",
       "      <th>20</th>\n",
       "      <td>Queens</td>\n",
       "      <td>seeds</td>\n",
       "      <td>daisy</td>\n",
       "      <td>57</td>\n",
       "      <td>6.99</td>\n",
       "      <td>True</td>\n",
       "    </tr>\n",
       "    <tr>\n",
       "      <th>21</th>\n",
       "      <td>Queens</td>\n",
       "      <td>seeds</td>\n",
       "      <td>calla lily</td>\n",
       "      <td>95</td>\n",
       "      <td>19.99</td>\n",
       "      <td>True</td>\n",
       "    </tr>\n",
       "    <tr>\n",
       "      <th>22</th>\n",
       "      <td>Queens</td>\n",
       "      <td>seeds</td>\n",
       "      <td>tomato</td>\n",
       "      <td>45</td>\n",
       "      <td>13.99</td>\n",
       "      <td>True</td>\n",
       "    </tr>\n",
       "    <tr>\n",
       "      <th>23</th>\n",
       "      <td>Queens</td>\n",
       "      <td>garden tools</td>\n",
       "      <td>rake</td>\n",
       "      <td>21</td>\n",
       "      <td>13.99</td>\n",
       "      <td>True</td>\n",
       "    </tr>\n",
       "    <tr>\n",
       "      <th>24</th>\n",
       "      <td>Queens</td>\n",
       "      <td>garden tools</td>\n",
       "      <td>wheelbarrow</td>\n",
       "      <td>98</td>\n",
       "      <td>89.99</td>\n",
       "      <td>True</td>\n",
       "    </tr>\n",
       "    <tr>\n",
       "      <th>25</th>\n",
       "      <td>Queens</td>\n",
       "      <td>garden tools</td>\n",
       "      <td>spade</td>\n",
       "      <td>26</td>\n",
       "      <td>19.99</td>\n",
       "      <td>True</td>\n",
       "    </tr>\n",
       "    <tr>\n",
       "      <th>26</th>\n",
       "      <td>Queens</td>\n",
       "      <td>pest_control</td>\n",
       "      <td>insect killer</td>\n",
       "      <td>0</td>\n",
       "      <td>12.99</td>\n",
       "      <td>False</td>\n",
       "    </tr>\n",
       "    <tr>\n",
       "      <th>27</th>\n",
       "      <td>Queens</td>\n",
       "      <td>pest_control</td>\n",
       "      <td>weed killer</td>\n",
       "      <td>16</td>\n",
       "      <td>23.99</td>\n",
       "      <td>True</td>\n",
       "    </tr>\n",
       "    <tr>\n",
       "      <th>28</th>\n",
       "      <td>Queens</td>\n",
       "      <td>planter</td>\n",
       "      <td>20 inch terracotta planter</td>\n",
       "      <td>87</td>\n",
       "      <td>17.99</td>\n",
       "      <td>True</td>\n",
       "    </tr>\n",
       "  </tbody>\n",
       "</table>\n",
       "</div>"
      ],
      "text/plain": [
       "         location  product_type         product_description  quantity  price  \\\n",
       "0   Staten Island         seeds                       daisy         4   6.99   \n",
       "1   Staten Island         seeds                  calla lily        46  19.99   \n",
       "2   Staten Island         seeds                      tomato        85  13.99   \n",
       "3   Staten Island  garden tools                        rake         4  13.99   \n",
       "4   Staten Island  garden tools                 wheelbarrow         0  89.99   \n",
       "5   Staten Island  garden tools                       spade        93  19.99   \n",
       "6   Staten Island  pest_control               insect killer        74  12.99   \n",
       "7   Staten Island  pest_control                 weed killer         8  23.99   \n",
       "8   Staten Island       planter  20 inch terracotta planter         0  17.99   \n",
       "9   Staten Island       planter      8 inch plastic planter        53   3.99   \n",
       "10       Brooklyn         seeds                       daisy        50   6.99   \n",
       "11       Brooklyn         seeds                  calla lily         0  19.99   \n",
       "12       Brooklyn         seeds                      tomato         0  13.99   \n",
       "13       Brooklyn  garden tools                        rake        15  13.99   \n",
       "14       Brooklyn  garden tools                 wheelbarrow        82  89.99   \n",
       "15       Brooklyn  garden tools                       spade        36  19.99   \n",
       "16       Brooklyn  pest_control               insect killer        80  12.99   \n",
       "17       Brooklyn  pest_control                 weed killer        76  23.99   \n",
       "18       Brooklyn       planter  20 inch terracotta planter         5  17.99   \n",
       "19       Brooklyn       planter      8 inch plastic planter        26   3.99   \n",
       "20         Queens         seeds                       daisy        57   6.99   \n",
       "21         Queens         seeds                  calla lily        95  19.99   \n",
       "22         Queens         seeds                      tomato        45  13.99   \n",
       "23         Queens  garden tools                        rake        21  13.99   \n",
       "24         Queens  garden tools                 wheelbarrow        98  89.99   \n",
       "25         Queens  garden tools                       spade        26  19.99   \n",
       "26         Queens  pest_control               insect killer         0  12.99   \n",
       "27         Queens  pest_control                 weed killer        16  23.99   \n",
       "28         Queens       planter  20 inch terracotta planter        87  17.99   \n",
       "\n",
       "    in_stock  \n",
       "0       True  \n",
       "1       True  \n",
       "2       True  \n",
       "3       True  \n",
       "4      False  \n",
       "5       True  \n",
       "6       True  \n",
       "7       True  \n",
       "8      False  \n",
       "9       True  \n",
       "10      True  \n",
       "11     False  \n",
       "12     False  \n",
       "13      True  \n",
       "14      True  \n",
       "15      True  \n",
       "16      True  \n",
       "17      True  \n",
       "18      True  \n",
       "19      True  \n",
       "20      True  \n",
       "21      True  \n",
       "22      True  \n",
       "23      True  \n",
       "24      True  \n",
       "25      True  \n",
       "26     False  \n",
       "27      True  \n",
       "28      True  "
      ]
     },
     "execution_count": 136,
     "metadata": {},
     "output_type": "execute_result"
    }
   ],
   "source": [
    "inventory[\"quantity\"]=inventory[\"quantity\"].astype(int)\n",
    "inventory[\"in_stock\"]=True\n",
    "for i in inventory.index:\n",
    "    if inventory[\"quantity\"].iloc[i]==0:\n",
    "        inventory[\"in_stock\"].iloc[i]=False\n",
    "inventory       "
   ]
  },
  {
   "cell_type": "code",
   "execution_count": 126,
   "metadata": {},
   "outputs": [],
   "source": [
    "inventory[\"total_value\"]=inventory[\"price\"]*inventory[\"quantity\"]\n",
    "#inventory"
   ]
  },
  {
   "cell_type": "code",
   "execution_count": 127,
   "metadata": {},
   "outputs": [],
   "source": [
    "#combine_lambda = lambda row: \\\n",
    " #   '{} - {}'.format(row.product_type,\n",
    "  #                   row.product_description)"
   ]
  },
  {
   "cell_type": "code",
   "execution_count": 128,
   "metadata": {},
   "outputs": [],
   "source": [
    "combine_lambda = lambda row: row.product_type+\"_\"+row.product_description\n"
   ]
  },
  {
   "cell_type": "code",
   "execution_count": 129,
   "metadata": {},
   "outputs": [],
   "source": [
    "inventory[\"full_description\"]=combine_lambda(inventory)"
   ]
  },
  {
   "cell_type": "code",
   "execution_count": null,
   "metadata": {},
   "outputs": [],
   "source": []
  },
  {
   "cell_type": "code",
   "execution_count": null,
   "metadata": {},
   "outputs": [],
   "source": []
  }
 ],
 "metadata": {
  "kernelspec": {
   "display_name": "Python 3",
   "language": "python",
   "name": "python3"
  },
  "language_info": {
   "codemirror_mode": {
    "name": "ipython",
    "version": 3
   },
   "file_extension": ".py",
   "mimetype": "text/x-python",
   "name": "python",
   "nbconvert_exporter": "python",
   "pygments_lexer": "ipython3",
   "version": "3.7.6"
  }
 },
 "nbformat": 4,
 "nbformat_minor": 4
}
